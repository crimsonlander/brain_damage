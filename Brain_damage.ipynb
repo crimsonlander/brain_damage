{
 "cells": [
  {
   "cell_type": "code",
   "execution_count": 134,
   "metadata": {
    "collapsed": false
   },
   "outputs": [
    {
     "name": "stdout",
     "output_type": "stream",
     "text": [
      "Extracting MNIST_data/train-images-idx3-ubyte.gz\n",
      "Extracting MNIST_data/train-labels-idx1-ubyte.gz\n",
      "Extracting MNIST_data/t10k-images-idx3-ubyte.gz\n",
      "Extracting MNIST_data/t10k-labels-idx1-ubyte.gz\n"
     ]
    }
   ],
   "source": [
    "import matplotlib.pyplot as plt\n",
    "import tensorflow as tf\n",
    "import numpy as np\n",
    "from tensorflow.examples.tutorials.mnist import input_data\n",
    "%matplotlib inline  \n",
    "mnist = input_data.read_data_sets(\"MNIST_data/\", one_hot=True)"
   ]
  },
  {
   "cell_type": "code",
   "execution_count": 159,
   "metadata": {
    "collapsed": false
   },
   "outputs": [],
   "source": [
    "class Network:\n",
    "    def __init__(self, layers = [784, 500, 300, 10]):\n",
    "        self.layers = layers\n",
    "        self.weights = []\n",
    "        self.masks = []\n",
    "        self.weights_dim = [[layers[i], layers[i+1]] for i in range(len(layers) - 1)]\n",
    "        self.protected = [[0] * layer for layer in layers]\n",
    "        self.deaths = [[0] * layer for layer in layers]\n",
    "        for i in self.weights_dim:\n",
    "            self.masks.append(tf.placeholder(tf.float32, i))\n",
    "            self.weights.append(\n",
    "                [tf.Variable(tf.random_uniform(i, -3./i[0]**0.5, 3./i[0]**0.5)), tf.Variable(tf.zeros(i[1:]))])\n",
    "        self.session = tf.Session()\n",
    "    \n",
    "    def build_graph(self):\n",
    "        x = self.x = tf.placeholder(tf.float32, [None, self.layers[0]])\n",
    "        y_ = self.y_ = tf.placeholder(tf.float32, [None, self.layers[-1]])\n",
    "        \n",
    "        y = x\n",
    "        for w, b in self.weights[:-1]:\n",
    "            y = tf.nn.sigmoid(tf.matmul(y, w) + b)\n",
    "            \n",
    "        w, b = self.weights[-1]\n",
    "        y = tf.nn.softmax(tf.matmul(y, w) + b)\n",
    "        \n",
    "        correct_prediction = tf.equal(tf.argmax(y, 1), tf.argmax(y_, 1))\n",
    "        self.correct_rate = tf.reduce_mean(tf.cast(correct_prediction, tf.float32))\n",
    "        \n",
    "        cross_entropy = tf.reduce_mean(-tf.reduce_sum(y_ * tf.log(y), reduction_indices=[1]))\n",
    "        error = cross_entropy + 0.1 * tf.nn.l2_loss([tf.reduce_mean(weight[0]) for weight in self.weights])\n",
    "        self.train_step = tf.train.AdadeltaOptimizer(0.1).minimize(error)\n",
    "        \n",
    "        #Brain damage\n",
    "        self.delete_neurons = []\n",
    "        for i in range(len(self.weights)):\n",
    "            self.delete_neurons.append(tf.assign(self.weights[i][0], self.masks[i]))\n",
    "            \n",
    "        self.init = tf.initialize_all_variables()\n",
    "        \n",
    "    def brain_damage(self, layer, low_rate, high_rate, protection = 3):\n",
    "        W = self.session.run(self.weights[layer][0])\n",
    "#        print(W.shape)\n",
    "        wsum = list(np.sum(np.absolute(W), axis = 1))\n",
    "        wsorted = sorted([(i, wsum[i]) for i in range(len(wsum))], key = lambda x: x[1])\n",
    "        wsorted = list(filter(lambda x: self.protected[layer][x[0]] == 0, wsorted))\n",
    "        \n",
    "        for i in range(len(self.protected[layer])):\n",
    "            if self.protected[layer][i] > 0:\n",
    "                self.protected[layer][i] -= 1\n",
    "        \n",
    "        indexes = [x[0] for x in wsorted]\n",
    "        to_delete = indexes[:int(low_rate * len(wsorted))] + indexes[int(high_rate * len(wsorted)):]\n",
    "        for i in to_delete:\n",
    "            self.protected[layer][i] = protection\n",
    "            self.deaths[layer][i] += 1\n",
    "#        print(to_delete)\n",
    "        mask_out = self.weights[layer][0].eval(session=self.session)\n",
    "        #mask_out = mask_out / np.max(np.abs(mask_out)) * 0.25\n",
    "        mask_in = self.weights[layer - 1][0].eval(session=self.session)\n",
    "        #mask_in = mask_in / np.max(np.abs(mask_in)) * 0.25\n",
    "        for i in to_delete:\n",
    "            for j in range(self.weights_dim[layer][1]):\n",
    "                mask_out[i, j] = mask_out[i, j] \n",
    "            for j in range(self.weights_dim[layer - 1][0]):\n",
    "                mask_in[j, i] = np.random.uniform(-0.1, 0.1)\n",
    "                \n",
    "        self.session.run(self.delete_neurons[layer], feed_dict = {self.masks[layer] : mask_out})\n",
    "        self.session.run(self.delete_neurons[layer - 1], feed_dict = {self.masks[layer - 1] : mask_in})\n",
    "        \n",
    "    def init_variables(self):\n",
    "        self.session.run(self.init)\n",
    "        \n",
    "    def train(self, steps):\n",
    "        for i in range(steps):\n",
    "            if (i + 1) % 1000 == 0:\n",
    "                print('step:', i, self.validate())\n",
    "            batch_xs, batch_ys = mnist.train.next_batch(100)\n",
    "            self.session.run(self.train_step, feed_dict = {self.x : batch_xs, self.y_ : batch_ys})\n",
    "            \n",
    "    def layer_utility(self, layer):\n",
    "        W = self.session.run(self.weights[layer][0])\n",
    "        wsum = list(np.sum(np.absolute(W), axis = 1))\n",
    "        plt.hist(wsum, bins = 20)\n",
    "            \n",
    "    def validate(self):\n",
    "        return self.session.run(self.correct_rate, feed_dict={self.x: mnist.test.images, self.y_: mnist.test.labels})\n",
    "    \n",
    "    def delete_layer(self, layer):\n",
    "        self.session.run(self.delete_neurons[layer], feed_dict = {self.masks[layer] : np.zeros(self.weights_dim[layer])})\n",
    "     \n",
    "    def restore_layer(self, layer):\n",
    "        self.session.run(self.delete_neurons[layer], feed_dict = {self.masks[layer] : np.ones(self.weights_dim[layer])})\n",
    "        \n",
    "    def score(self, layer, top):\n",
    "        W = self.session.run(self.weights[layer][0])\n",
    "#        print(W.shape)\n",
    "        wsum = list(np.sum(np.absolute(W), axis = 1))\n",
    "        wsorted = sorted([(i, wsum[i]) for i in range(len(wsum))], key = lambda x: x[1])\n",
    "        \n",
    "        for x in wsorted[:top]:\n",
    "            print(x)\n",
    "            \n",
    "        "
   ]
  },
  {
   "cell_type": "code",
   "execution_count": 160,
   "metadata": {
    "collapsed": false
   },
   "outputs": [
    {
     "name": "stdout",
     "output_type": "stream",
     "text": [
      "step: 999 0.8899\n",
      "step: 1999 0.9073\n",
      "step: 2999 0.9181\n",
      "step: 3999 0.9185\n",
      "step: 4999 0.9241\n"
     ]
    }
   ],
   "source": [
    "n = Network()\n",
    "n.build_graph()\n",
    "n.init_variables()\n",
    "n.train(5000)"
   ]
  },
  {
   "cell_type": "code",
   "execution_count": 161,
   "metadata": {
    "collapsed": false
   },
   "outputs": [
    {
     "data": {
      "image/png": "[encoded data removed]",
      "text/plain": [
       "<matplotlib.figure.Figure at 0x7fbbc86ff5c0>"
      ]
     },
     "metadata": {},
     "output_type": "display_data"
    }
   ],
   "source": [
    "n.layer_utility(1)"
   ]
  },
  {
   "cell_type": "code",
   "execution_count": 162,
   "metadata": {
    "collapsed": false
   },
   "outputs": [
    {
     "name": "stdout",
     "output_type": "stream",
     "text": [
      "(470, 19.014986)\n",
      "(391, 19.188908)\n",
      "(334, 19.261688)\n",
      "(307, 19.373735)\n",
      "(280, 19.449894)\n",
      "(35, 19.474127)\n",
      "(314, 19.49543)\n",
      "(293, 19.508171)\n",
      "(384, 19.54916)\n",
      "(427, 19.563101)\n"
     ]
    }
   ],
   "source": [
    "n.score(1, 10)"
   ]
  },
  {
   "cell_type": "code",
   "execution_count": null,
   "metadata": {
    "collapsed": true
   },
   "outputs": [],
   "source": []
  },
  {
   "cell_type": "code",
   "execution_count": 170,
   "metadata": {
    "collapsed": false
   },
   "outputs": [
    {
     "name": "stdout",
     "output_type": "stream",
     "text": [
      "step: 999 0.9284\n",
      "step: 1999 0.9337\n",
      "step: 2999 0.9397\n",
      "step: 3999 0.9419\n",
      "step: 4999 0.9462\n",
      "step: 5999 0.9476\n",
      "step: 6999 0.949\n",
      "step: 7999 0.9519\n",
      "step: 8999 0.9555\n",
      "step: 9999 0.9576\n",
      "0 : 0.9573\n",
      "(143, 13.355614)\n",
      "(447, 13.775244)\n",
      "(343, 13.898643)\n",
      "(131, 14.017754)\n",
      "(297, 14.049238)\n",
      "(291, 14.052413)\n",
      "(445, 14.061562)\n",
      "(254, 14.198777)\n",
      "(96, 14.221506)\n",
      "(454, 14.224924)\n",
      "step: 999 0.957\n",
      "step: 1999 0.9597\n",
      "step: 2999 0.9627\n",
      "step: 3999 0.9625\n",
      "step: 4999 0.9637\n",
      "step: 5999 0.9643\n",
      "step: 6999 0.9632\n",
      "step: 7999 0.9655\n",
      "step: 8999 0.9656\n",
      "step: 9999 0.9669\n",
      "1 : 0.9669\n",
      "(143, 13.715855)\n",
      "(447, 13.71712)\n",
      "(445, 13.997372)\n",
      "(343, 14.022764)\n",
      "(131, 14.054689)\n",
      "(297, 14.082634)\n",
      "(254, 14.178088)\n",
      "(291, 14.186419)\n",
      "(405, 14.217693)\n",
      "(96, 14.223932)\n",
      "step: 999 0.8878\n",
      "step: 1999 0.9086\n",
      "step: 2999 0.9174\n",
      "step: 3999 0.9199\n",
      "step: 4999 0.9277\n",
      "step: 5999 0.9311\n",
      "step: 6999 0.9318\n",
      "step: 7999 0.9341\n",
      "step: 8999 0.9403\n",
      "step: 9999 0.9401\n",
      "2 : 0.9401\n",
      "(118, 13.947402)\n",
      "(181, 14.528141)\n",
      "(264, 14.615751)\n",
      "(189, 14.641109)\n",
      "(483, 14.685255)\n",
      "(108, 14.766304)\n",
      "(44, 14.778256)\n",
      "(195, 14.789932)\n",
      "(185, 14.827595)\n",
      "(91, 14.828209)\n",
      "step: 999 0.9313\n",
      "step: 1999 0.9358\n",
      "step: 2999 0.9374\n",
      "step: 3999 0.9431\n",
      "step: 4999 0.9458\n",
      "step: 5999 0.9483\n",
      "step: 6999 0.9508\n",
      "step: 7999 0.9519\n",
      "step: 8999 0.9525\n",
      "step: 9999 0.956\n",
      "3 : 0.9546\n",
      "(90, 13.550682)\n",
      "(473, 13.878104)\n",
      "(50, 14.023087)\n",
      "(60, 14.052235)\n",
      "(244, 14.076393)\n",
      "(310, 14.102356)\n",
      "(6, 14.221871)\n",
      "(121, 14.261047)\n",
      "(87, 14.298597)\n",
      "(97, 14.299609)\n",
      "step: 999 0.9551\n",
      "step: 1999 0.9594\n",
      "step: 2999 0.9601\n",
      "step: 3999 0.9621\n",
      "step: 4999 0.9613\n",
      "step: 5999 0.9632\n",
      "step: 6999 0.9633\n",
      "step: 7999 0.9649\n",
      "step: 8999 0.9675\n",
      "step: 9999 0.966\n",
      "4 : 0.966\n",
      "(90, 13.753226)\n",
      "(50, 14.070886)\n",
      "(244, 14.086239)\n",
      "(56, 14.157814)\n",
      "(473, 14.16165)\n",
      "(6, 14.166925)\n",
      "(285, 14.27383)\n",
      "(262, 14.280608)\n",
      "(496, 14.294218)\n",
      "(97, 14.306694)\n"
     ]
    }
   ],
   "source": [
    "previous_step = -100 \n",
    "low_rate = 0.0\n",
    "high_rate = 0.10\n",
    "rate_decay = 1.0\n",
    "for i in range(5):\n",
    "    n.brain_damage(1, low_rate, high_rate, 2)\n",
    "    n.brain_damage(2, low_rate, high_rate, 2)\n",
    "    n.train(10000)\n",
    "    current_step = n.validate()\n",
    "    rate = rate * rate_decay\n",
    "    print(i, ':', current_step)\n",
    "    n.score(1, 10)"
   ]
  },
  {
   "cell_type": "code",
   "execution_count": 167,
   "metadata": {
    "collapsed": false
   },
   "outputs": [
    {
     "data": {
      "image/png": "[encoded data removed]",
      "text/plain": [
       "<matplotlib.figure.Figure at 0x7fbb58067eb8>"
      ]
     },
     "metadata": {},
     "output_type": "display_data"
    }
   ],
   "source": [
    "n.layer_utility(1)"
   ]
  },
  {
   "cell_type": "code",
   "execution_count": 168,
   "metadata": {
    "collapsed": false
   },
   "outputs": [
    {
     "data": {
      "text/plain": [
       "(array([ 255.,    0.,    0.,  194.,    0.,    0.,   47.,    0.,    0.,    4.]),\n",
       " array([ 4. ,  4.3,  4.6,  4.9,  5.2,  5.5,  5.8,  6.1,  6.4,  6.7,  7. ]),\n",
       " <a list of 10 Patch objects>)"
      ]
     },
     "execution_count": 168,
     "metadata": {},
     "output_type": "execute_result"
    },
    {
     "data": {
      "image/png": "[encoded data removed]",
      "text/plain": [
       "<matplotlib.figure.Figure at 0x7fbb5fd0e630>"
      ]
     },
     "metadata": {},
     "output_type": "display_data"
    }
   ],
   "source": [
    "plt.hist(n.deaths[1])"
   ]
  },
  {
   "cell_type": "code",
   "execution_count": 90,
   "metadata": {
    "collapsed": false
   },
   "outputs": [
    {
     "name": "stdout",
     "output_type": "stream",
     "text": [
      "[(14, 7.6016097), (72, 7.8997364), (57, 8.2414942), (47, 8.2550325), (2, 8.3643837), (13, 8.4130831), (97, 8.4813261), (20, 8.6795397), (89, 8.6867123), (60, 8.7762775), (54, 8.797473), (94, 8.9162798), (53, 8.9847145), (43, 9.0994005), (99, 9.1403255), (75, 9.1865635), (52, 9.2018747), (78, 9.2499857), (92, 9.3107061), (51, 9.3445415), (15, 9.3849087), (66, 9.4066477), (35, 9.4142294), (42, 9.4566374), (1, 9.4957762), (44, 9.511755), (79, 9.5213156), (69, 9.5650539), (38, 9.6119528), (83, 9.6306372), (25, 9.6355219), (22, 9.6356421), (80, 9.6759548), (23, 9.7499056), (19, 9.7555513), (65, 9.7824049), (61, 9.8653841), (58, 9.8977833), (11, 9.927331), (68, 9.9316044), (76, 9.9408846), (41, 9.9508448), (10, 9.9621086), (98, 9.9736109), (73, 10.018256), (82, 10.03371), (70, 10.080753), (30, 10.109867), (95, 10.116479), (48, 10.119434), (86, 10.135349), (39, 10.171138), (87, 10.267855), (77, 10.306024), (91, 10.316617), (27, 10.330379), (62, 10.354987), (34, 10.400938), (9, 10.456761), (88, 10.492455), (16, 10.512241), (26, 10.532439), (85, 10.636738), (18, 10.639792), (37, 10.681443), (29, 10.693986), (40, 10.709642), (45, 10.755219), (93, 10.760362), (55, 10.767496), (7, 10.788841), (71, 10.789336), (6, 10.866612), (46, 10.934413), (4, 10.947786), (31, 10.957884), (84, 10.962801), (32, 10.970101), (67, 11.02639), (0, 11.031461), (63, 11.033745), (36, 11.039162), (8, 11.044156), (96, 11.129623), (12, 11.345546), (3, 11.437976), (5, 11.661695), (24, 11.796406), (28, 11.850485), (17, 11.876468), (74, 12.031254), (21, 12.035086), (59, 12.10859), (90, 12.164883), (33, 12.225701), (49, 12.250717), (50, 12.332458), (64, 12.476108), (81, 12.99059), (56, 13.901955)]\n"
     ]
    }
   ],
   "source": [
    "n.score(1)\n",
    "n.brain_damage(1, 0.2)"
   ]
  },
  {
   "cell_type": "code",
   "execution_count": 34,
   "metadata": {
    "collapsed": false
   },
   "outputs": [
    {
     "data": {
      "image/png": "[encoded data removed]",
      "text/plain": [
       "<matplotlib.figure.Figure at 0x7fbb6d5ff518>"
      ]
     },
     "metadata": {},
     "output_type": "display_data"
    }
   ],
   "source": [
    "n.layer_utility(1)"
   ]
  },
  {
   "cell_type": "code",
   "execution_count": 35,
   "metadata": {
    "collapsed": false
   },
   "outputs": [
    {
     "name": "stdout",
     "output_type": "stream",
     "text": [
      "step: 999 0.9561\n",
      "step: 1999 0.9573\n",
      "step: 2999 0.9572\n",
      "step: 3999 0.9573\n",
      "step: 4999 0.9576\n"
     ]
    }
   ],
   "source": [
    "n.train(5000)"
   ]
  },
  {
   "cell_type": "code",
   "execution_count": 36,
   "metadata": {
    "collapsed": false
   },
   "outputs": [
    {
     "data": {
      "image/png": "[encoded data removed]",
      "text/plain": [
       "<matplotlib.figure.Figure at 0x7fbb6d4ef160>"
      ]
     },
     "metadata": {},
     "output_type": "display_data"
    }
   ],
   "source": [
    "n.layer_utility(1)"
   ]
  },
  {
   "cell_type": "code",
   "execution_count": 37,
   "metadata": {
    "collapsed": false
   },
   "outputs": [
    {
     "name": "stdout",
     "output_type": "stream",
     "text": [
      "step: 999 0.958\n",
      "step: 1999 0.9582\n",
      "step: 2999 0.9587\n",
      "step: 3999 0.958\n",
      "step: 4999 0.9585\n"
     ]
    }
   ],
   "source": [
    "n.train(5000)"
   ]
  },
  {
   "cell_type": "code",
   "execution_count": 38,
   "metadata": {
    "collapsed": false
   },
   "outputs": [
    {
     "data": {
      "image/png": "[encoded data removed]",
      "text/plain": [
       "<matplotlib.figure.Figure at 0x7fbb6d47dfd0>"
      ]
     },
     "metadata": {},
     "output_type": "display_data"
    }
   ],
   "source": [
    "n.layer_utility(1)"
   ]
  },
  {
   "cell_type": "code",
   "execution_count": null,
   "metadata": {
    "collapsed": false
   },
   "outputs": [],
   "source": [
    "n.session.run(n.weights[1][0])"
   ]
  },
  {
   "cell_type": "code",
   "execution_count": null,
   "metadata": {
    "collapsed": true
   },
   "outputs": [],
   "source": []
  }
 ],
 "metadata": {
  "kernelspec": {
   "display_name": "Python 3",
   "language": "python",
   "name": "python3"
  },
  "language_info": {
   "codemirror_mode": {
    "name": "ipython",
    "version": 3
   },
   "file_extension": ".py",
   "mimetype": "text/x-python",
   "name": "python",
   "nbconvert_exporter": "python",
   "pygments_lexer": "ipython3",
   "version": "3.4.3"
  }
 },
 "nbformat": 4,
 "nbformat_minor": 0
}
